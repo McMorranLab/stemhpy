{
 "cells": [
  {
   "cell_type": "code",
   "execution_count": null,
   "metadata": {},
   "outputs": [],
   "source": [
    "%matplotlib widget\n",
    "\n",
    "# base python modules\n",
    "import numpy as np\n",
    "import time\n",
    "import matplotlib.pyplot as plt\n",
    "from matplotlib.colors import LogNorm\n",
    "from multiprocessing import cpu_count\n",
    "\n",
    "# less standard modules\n",
    "import pyfftw\n",
    "import py4DSTEM\n",
    "\n",
    "# our module\n",
    "import stemh_tools as st"
   ]
  },
  {
   "cell_type": "code",
   "execution_count": null,
   "metadata": {},
   "outputs": [],
   "source": [
    "# paths hard coded from your own device\n",
    "\n",
    "dataPath = '/Users/aducharme/Documents/Experiments/4dstem/2024-10-27/4d_alignmentEdge_redoneWorse_30umObjAperture_2kx2k.dm4'\n",
    "savePath = '/Users/aducharme/University of Oregon Dropbox/UO-McMorran Lab/ParticipantFiles/Ducharme/STEMH/241027/4d_alignmentEdge_redoneWorse_30umObjAperture/'"
   ]
  },
  {
   "cell_type": "code",
   "execution_count": null,
   "metadata": {},
   "outputs": [],
   "source": [
    "datacube = py4DSTEM.import_file(dataPath)\n",
    "data = datacube.data\n",
    "datacube"
   ]
  },
  {
   "cell_type": "code",
   "execution_count": null,
   "metadata": {},
   "outputs": [
    {
     "data": {
      "application/vnd.jupyter.widget-view+json": {
       "model_id": "edd2ebbbe9c94a8d9af62480cd57d653",
       "version_major": 2,
       "version_minor": 0
      },
      "text/plain": [
       "Canvas(toolbar=Toolbar(toolitems=[('Home', 'Reset original view', 'home', 'home'), ('Back', 'Back to previous …"
      ]
     },
     "metadata": {},
     "output_type": "display_data"
    }
   ],
   "source": [
    "scan_row_num = datacube.shape[0]  \n",
    "scan_col_num = datacube.shape[1]  \n",
    "frame_row_num = datacube.shape[2]\n",
    "frame_col_num = datacube.shape[3]\n",
    "\n",
    "print(scan_row_num, scan_col_num)\n",
    "print(frame_row_num, frame_col_num)"
   ]
  },
  {
   "cell_type": "code",
   "execution_count": null,
   "metadata": {},
   "outputs": [],
   "source": [
    "# create virtual STEM image of data\n",
    "\n",
    "vSTEM = np.sum(datacube.data, axis=(2,3))\n",
    "\n",
    "fig, ax = plt.subplots(tight_layout=True)\n",
    "\n",
    "im = ax.imshow(vSTEM)\n",
    "plt.colorbar(im)\n",
    "\n",
    "plt.show()"
   ]
  },
  {
   "cell_type": "code",
   "execution_count": null,
   "metadata": {},
   "outputs": [],
   "source": [
    "fig.savefig(savePath + 'vSTEM.png')"
   ]
  },
  {
   "cell_type": "markdown",
   "metadata": {},
   "source": [
    "Find the location of the peaks in the Fourier transform of an interference pattern. The peak location is essentially constant throughout the scan.\n",
    "\n",
    "The code tries to find the correct value, but double-check that it isn't picking up the 0th order."
   ]
  },
  {
   "cell_type": "code",
   "execution_count": null,
   "metadata": {},
   "outputs": [
    {
     "name": "stdout",
     "output_type": "stream",
     "text": [
      "[[404 539 126]\n",
      " [177 502 257]\n",
      " [175 506 167]\n",
      " [173 398 145]]\n",
      "[539 126]\n"
     ]
    },
    {
     "data": {
      "application/vnd.jupyter.widget-view+json": {
       "model_id": "6cd6baa502704524a02df74fe6dbee62",
       "version_major": 2,
       "version_minor": 0
      },
      "text/plain": [
       "Canvas(toolbar=Toolbar(toolitems=[('Home', 'Reset original view', 'home', 'home'), ('Back', 'Back to previous …"
      ]
     },
     "metadata": {},
     "output_type": "display_data"
    }
   ],
   "source": [
    "test_frame = data[100,100]\n",
    "\n",
    "# find the first order index by computing the real fft to match what we use in the loop\n",
    "test_rfft = np.fft.rfft2(test_frame)\n",
    "\n",
    "rfft_peaks = st.fft_find_peaks(test_rfft, 4)  # find two highest magnitude peaks in vac_rfft\n",
    "print(rfft_peaks)\n",
    "\n",
    "first_order = rfft_peaks[0, 1:]  # location of first order peak\n",
    "# selection_size = st.calc_box_size(rfft_peaks) / 4 # eighth the distance between individual fft peaks\n",
    "\n",
    "print(first_order)\n",
    "\n",
    "selection_size = 10\n",
    "\n",
    "# Check the frame isn't obviously garbage.\n",
    "# The code looks at the raw rFFT, but it's easier for us humans to look at the fftshifted rFFT\n",
    "# Just remember Fourier peak locations in the fftshifted data are not the locations in the actual analysis\n",
    "fig, ax = plt.subplots()\n",
    "\n",
    "# ax.imshow(test_frame, cmap='binary')\n",
    "ax.imshow(np.abs(test_rfft), norm=LogNorm())\n",
    "# ax.imshow(np.abs(np.fft.fftshift(test_rfft)), norm=LogNorm())\n",
    "\n",
    "ax.xaxis.tick_top()\n",
    "ax.tick_params(labelsize = 12)\n",
    "fig.tight_layout()"
   ]
  },
  {
   "cell_type": "code",
   "execution_count": null,
   "metadata": {},
   "outputs": [],
   "source": [
    "# setting up pyfftw numpy interface\n",
    "pyfftw.config.NUM_THREADS = cpu_count()\n",
    "pyfftw.config.PLANNER_EFFORT = 'FFTW_ESTIMATE'\n",
    "pyfftw.interfaces.cache.enable()"
   ]
  },
  {
   "cell_type": "code",
   "execution_count": null,
   "metadata": {},
   "outputs": [
    {
     "name": "stdout",
     "output_type": "stream",
     "text": [
      "0\n",
      "20000\n",
      "40000\n",
      "60000\n",
      "Total time (s): 76.76662087440491\n",
      "Per frame time (ms): 1.1713656749634538\n",
      "1024 x 1024 time (min): 20.47109889984131\n"
     ]
    },
    {
     "data": {
      "application/vnd.jupyter.widget-view+json": {
       "model_id": "4336b9532a9241f4b400e465a6995451",
       "version_major": 2,
       "version_minor": 0
      },
      "text/plain": [
       "Canvas(toolbar=Toolbar(toolitems=[('Home', 'Reset original view', 'home', 'home'), ('Back', 'Back to previous …"
      ]
     },
     "metadata": {},
     "output_type": "display_data"
    },
    {
     "data": {
      "text/plain": [
       "<stempy.io.sparse_array.SparseArray at 0x7fd1626cf790>"
      ]
     },
     "execution_count": 62,
     "metadata": {},
     "output_type": "execute_result"
    }
   ],
   "source": [
    "base = np.empty((frame_row_num, frame_col_num), dtype='float32')\n",
    "    \n",
    "# data array made 3D, from (scan_row, scan_col, : ,:) to (scan_row * scan_col, :,:)\n",
    "num_frames = scan_col_num * scan_row_num\n",
    "data1D = data.reshape((num_frames, frame_row_num, frame_col_num))\n",
    "\n",
    "# initialize arrays to store values through loop\n",
    "peaks = np.zeros(num_frames, dtype=complex)\n",
    "\n",
    "start = time.time()\n",
    "\n",
    "# the forward Fourier transform is the vast majority of the work+computation time here\n",
    "for i, frame in enumerate(data1D):\n",
    "    if i % (num_frames//5) == 0:\n",
    "        print(i)\n",
    "\n",
    "    base[:] = frame\n",
    "\n",
    "    ft = pyfftw.interfaces.numpy_fft.rfft2(base)  # take Fourier transform of the windowed frame\n",
    "    # ft = cupy.fft.rfft2(cupy.asarray(frame))\n",
    "\n",
    "    fourier_space_peak = st.grab_square_box(ft, selection_size, first_order) # select the area around desired peak\n",
    "\n",
    "    peaks[i] = np.sum(fourier_space_peak)\n",
    "\n",
    "phaseMap = np.angle(peaks).reshape((scan_row_num, scan_col_num))\n",
    "\n",
    "end = time.time()\n",
    "\n",
    "print(\"Total time (s): \" + str(end - start))\n",
    "print(\"Per frame time (ms): \" + str((end - start) / scan_row_num / scan_col_num * 1000))\n",
    "print('1024 x 1024 time (min): ' + str((end - start) / scan_row_num / scan_col_num * 1024 * 1024 / 60))\n",
    "\n",
    "fig, ax = plt.subplots()\n",
    "ax.imshow(phaseMap)\n",
    "\n",
    "# np.save(savePath + '14Phase_256_ord1', phaseMap)"
   ]
  },
  {
   "cell_type": "code",
   "execution_count": 43,
   "metadata": {},
   "outputs": [
    {
     "data": {
      "application/vnd.jupyter.widget-view+json": {
       "model_id": "0286e9cc99e34a46a3e14b451a7bdf71",
       "version_major": 2,
       "version_minor": 0
      },
      "text/plain": [
       "Canvas(toolbar=Toolbar(toolitems=[('Home', 'Reset original view', 'home', 'home'), ('Back', 'Back to previous …"
      ]
     },
     "metadata": {},
     "output_type": "display_data"
    }
   ],
   "source": [
    "# check best locations for plane subtractions for phase map\n",
    "\n",
    "loc = (100,20)\n",
    "\n",
    "fig, ax = plt.subplots()\n",
    "ax.xaxis.tick_top()\n",
    "image = ax.imshow(st.plane_subtract(phaseMap,loc,10,15), cmap='seismic')\n",
    "plt.colorbar(image)\n",
    "\n",
    "plt.plot(loc[0],loc[1], 'ro')"
   ]
  },
  {
   "cell_type": "code",
   "execution_count": 65,
   "metadata": {},
   "outputs": [],
   "source": [
    "np.save(savePath + '112Phase_256_ord1', phaseMap)"
   ]
  },
  {
   "cell_type": "code",
   "execution_count": 65,
   "metadata": {},
   "outputs": [],
   "source": [
    "plt.close('all')"
   ]
  },
  {
   "cell_type": "code",
   "execution_count": null,
   "metadata": {},
   "outputs": [],
   "source": []
  }
 ],
 "metadata": {
  "kernelspec": {
   "display_name": "Python 3",
   "language": "python",
   "name": "python3"
  },
  "language_info": {
   "codemirror_mode": {
    "name": "ipython",
    "version": 3
   },
   "file_extension": ".py",
   "mimetype": "text/x-python",
   "name": "python",
   "nbconvert_exporter": "python",
   "pygments_lexer": "ipython3",
   "version": "3.8.5"
  }
 },
 "nbformat": 4,
 "nbformat_minor": 4
}

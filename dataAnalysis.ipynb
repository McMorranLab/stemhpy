{
 "cells": [
  {
   "cell_type": "code",
   "execution_count": 1,
   "metadata": {},
   "outputs": [],
   "source": [
    "%matplotlib widget\n",
    "\n",
    "# base python modules\n",
    "import numpy as np\n",
    "import time\n",
    "import matplotlib.pyplot as plt\n",
    "from matplotlib.colors import LogNorm\n",
    "from multiprocessing import cpu_count\n",
    "import pyfftw\n",
    "\n",
    "# NCEM + Molecular Foundry modules\n",
    "import stempy\n",
    "from stempy.io import sparse_array\n",
    "\n",
    "# our module\n",
    "import stemh_tools as st"
   ]
  },
  {
   "cell_type": "code",
   "execution_count": 2,
   "metadata": {},
   "outputs": [],
   "source": [
    "# we are making use of the algorithm in Offelli and Petri, IEEE TIM 39, 363-368 (1990)\n",
    "# to accurately acquire the phase of the wave the FFT gives us\n",
    "# w/o error due to leakage and other discrete artifacts\n",
    "\n",
    "def make_window(arr_size, a0, a1, a2, a3=0, d=2):\n",
    "    coords = np.arange(-arr_size / 2, arr_size / 2)\n",
    "    term0 = a0 * np.ones(arr_size)\n",
    "    term1 = a1 * np.cos(2 * np.pi * coords / arr_size)\n",
    "    term2 = a2 * np.cos(2 * 2 * np.pi * coords / arr_size)\n",
    "    term3 = a3 * np.cos(3 * 2 * np.pi * coords / arr_size)\n",
    "\n",
    "    window = np.sum([term0, term1, term2, term3], axis=0)\n",
    "    if d == 2:\n",
    "        window = np.outer(window, window)\n",
    "\n",
    "    return window\n",
    "\n",
    "def calc_energy(arr):\n",
    "    arr = np.abs(arr)\n",
    "    en_comps = pow(arr, 2)\n",
    "    en = np.sum(en_comps)\n",
    "    \n",
    "    return en\n",
    "\n",
    "# this is the FFT window optimized in the cited paper for this method\n",
    "enrgy_win = make_window(576, .350139, .485260, .149889, .014712)\n",
    "\n",
    "def circle_thickness(radius, x_dist):\n",
    "    y = np.where(x_dist < radius, 2 * np.sqrt(radius ** 2 - x_dist ** 2), 0)\n",
    "\n",
    "    return y"
   ]
  },
  {
   "cell_type": "code",
   "execution_count": 57,
   "metadata": {},
   "outputs": [],
   "source": [
    "# paths hard coded from your own device\n",
    "\n",
    "dataPath = '/Users/andrewducharme/Documents/Data/4D_ISTEM/philipp_211004/data_scan112_th4.5_electrons.h5'\n",
    "savePath = '/Users/andrewducharme/Documents/Data/4D_ISTEM/OP_reanalysis/philipp_211004'"
   ]
  },
  {
   "cell_type": "code",
   "execution_count": 58,
   "metadata": {},
   "outputs": [],
   "source": [
    "# open 4dstem data from h5 file into stempy SparseArray format\n",
    "sa = sparse_array.SparseArray.from_hdf5(dataPath)\n",
    "sa = sa[:, :-1, :, :]  # cut off flyback frames\n",
    "# sa = sa.bin_scans(2)  # binning may not be necessary, but if you get no signal in the phase, try it"
   ]
  },
  {
   "cell_type": "code",
   "execution_count": 59,
   "metadata": {},
   "outputs": [
    {
     "data": {
      "application/vnd.jupyter.widget-view+json": {
       "model_id": "edd2ebbbe9c94a8d9af62480cd57d653",
       "version_major": 2,
       "version_minor": 0
      },
      "text/plain": [
       "Canvas(toolbar=Toolbar(toolitems=[('Home', 'Reset original view', 'home', 'home'), ('Back', 'Back to previous …"
      ]
     },
     "metadata": {},
     "output_type": "display_data"
    }
   ],
   "source": [
    "scan_row_num = sa.shape[0]  # same as scan_positions.attrs['Ny'] in hdf5 file metadata\n",
    "scan_col_num = sa.shape[1]  # same as sp.attrs['Nx'] - 1, since flyback is removed\n",
    "frame_row_num = sa.shape[2]\n",
    "frame_col_num = sa.shape[3]\n",
    "\n",
    "bf = stempy.image.create_stem_images(sa.data, 0, 30, scan_dimensions=(scan_col_num, scan_row_num), frame_dimensions=(frame_col_num, frame_row_num))[0]\n",
    "\n",
    "fig, ax = plt.subplots()\n",
    "ax.imshow(bf)"
   ]
  },
  {
   "cell_type": "markdown",
   "metadata": {},
   "source": [
    "Find the location of the peaks in the Fourier transform of an interference pattern. The peak location is essentially constant throughout the scan.\n",
    "\n",
    "The code tries to find the correct value, but double-check that it isn't picking up the 0th order."
   ]
  },
  {
   "cell_type": "code",
   "execution_count": null,
   "metadata": {},
   "outputs": [
    {
     "name": "stdout",
     "output_type": "stream",
     "text": [
      "[[404 539 126]\n",
      " [177 502 257]\n",
      " [175 506 167]\n",
      " [173 398 145]]\n",
      "[539 126]\n"
     ]
    },
    {
     "data": {
      "application/vnd.jupyter.widget-view+json": {
       "model_id": "6cd6baa502704524a02df74fe6dbee62",
       "version_major": 2,
       "version_minor": 0
      },
      "text/plain": [
       "Canvas(toolbar=Toolbar(toolitems=[('Home', 'Reset original view', 'home', 'home'), ('Back', 'Back to previous …"
      ]
     },
     "metadata": {},
     "output_type": "display_data"
    }
   ],
   "source": [
    "# Remember stempy uses (col #, row #) unlike numpy's (# of rows, # of columns) structure\n",
    "\n",
    "test_loc = [100,100]\n",
    "test_frame = sa[test_loc]\n",
    "\n",
    "# find the first order index by computing the real fft to match what we use in the loop\n",
    "test_rfft = np.fft.rfft2(test_frame)\n",
    "\n",
    "rfft_peaks = st.fft_find_peaks(test_rfft, 4)  # find two highest magnitude peaks in vac_rfft\n",
    "print(rfft_peaks)\n",
    "\n",
    "first_order = rfft_peaks[0, 1:]  # location of first order peak\n",
    "# selection_size = st.calc_box_size(rfft_peaks) / 4 # eighth the distance between individual fft peaks\n",
    "\n",
    "print(first_order)\n",
    "\n",
    "selection_size = 10\n",
    "\n",
    "# Check the frame isn't obviously garbage.\n",
    "# The code looks at the raw rFFT, but it's easier for us humans to look at the fftshifted rFFT\n",
    "# Just remember Fourier peak locations in the fftshifted data are not the locations in the actual analysis\n",
    "fig, ax = plt.subplots()\n",
    "\n",
    "# ax.imshow(test_frame, cmap='binary')\n",
    "ax.imshow(np.abs(test_rfft), norm=LogNorm())\n",
    "# ax.imshow(np.abs(np.fft.fftshift(test_rfft)), norm=LogNorm())\n",
    "\n",
    "ax.xaxis.tick_top()\n",
    "ax.tick_params(labelsize = 12)\n",
    "fig.tight_layout()"
   ]
  },
  {
   "cell_type": "code",
   "execution_count": 62,
   "metadata": {},
   "outputs": [
    {
     "name": "stdout",
     "output_type": "stream",
     "text": [
      "0\n",
      "20000\n",
      "40000\n",
      "60000\n",
      "Total time (s): 76.76662087440491\n",
      "Per frame time (ms): 1.1713656749634538\n",
      "1024 x 1024 time (min): 20.47109889984131\n"
     ]
    },
    {
     "data": {
      "application/vnd.jupyter.widget-view+json": {
       "model_id": "4336b9532a9241f4b400e465a6995451",
       "version_major": 2,
       "version_minor": 0
      },
      "text/plain": [
       "Canvas(toolbar=Toolbar(toolitems=[('Home', 'Reset original view', 'home', 'home'), ('Back', 'Back to previous …"
      ]
     },
     "metadata": {},
     "output_type": "display_data"
    },
    {
     "data": {
      "text/plain": [
       "<stempy.io.sparse_array.SparseArray at 0x7fd1626cf790>"
      ]
     },
     "execution_count": 62,
     "metadata": {},
     "output_type": "execute_result"
    }
   ],
   "source": [
    "# setting up pyfftw numpy interface\n",
    "pyfftw.config.NUM_THREADS = cpu_count()\n",
    "pyfftw.config.PLANNER_EFFORT = 'FFTW_ESTIMATE'\n",
    "pyfftw.interfaces.cache.enable()\n",
    "    \n",
    "base = np.empty(sa.frame_shape, dtype='uint16')\n",
    "    \n",
    "# sparse array shape changed from (scan_row, scan_col, : ,:) to (scan_row * scan_col, :,:)\n",
    "rsa = sa.ravel_scans()\n",
    "\n",
    "# initialize arrays to store values through loop\n",
    "arguments = np.zeros(rsa.scan_shape[0], dtype=np.float64)\n",
    "peaks = np.zeros(rsa.scan_shape[0], dtype=complex)\n",
    "\n",
    "start = time.time()\n",
    "\n",
    "# the forward Fourier transform is the vast majority of the work+computation time here\n",
    "for i, frame in enumerate(rsa):\n",
    "    if i % 20e3 == 0:\n",
    "        print(i)\n",
    "    if not frame.any():\n",
    "        arguments[i] = 0\n",
    "        continue\n",
    "\n",
    "    base[:] = frame * enrgy_win\n",
    "\n",
    "    ft = pyfftw.interfaces.numpy_fft.rfft2(base)  # take Fourier transform of the windowed frame\n",
    "    \n",
    "    fourier_space_peak = st.grab_square_box(ft, selection_size, first_order)  # select the area around the first peak\n",
    "    peaks[i] = ft[first_order[0], first_order[1]] # grab actual value at FFT peak\n",
    "    \n",
    "    Ehat_x = calc_energy(fourier_space_peak)\n",
    "    Ehat_c = calc_energy(fourier_space_peak.real)\n",
    "    \n",
    "    arguments[i] = Ehat_c / Ehat_x\n",
    "\n",
    "argSigns = np.sign(peaks.real)\n",
    "phaseSigns = np.sign(peaks.imag)\n",
    "\n",
    "phaseMap = phaseSigns * np.arccos(argSigns * np.sqrt(arguments))\n",
    "phaseMap = phaseMap.reshape(scan_row_num, scan_col_num)\n",
    "\n",
    "end = time.time()\n",
    "\n",
    "print(\"Total time (s): \" + str(end - start))\n",
    "print(\"Per frame time (ms): \" + str((end - start) / scan_row_num / scan_col_num * 1000))\n",
    "print('1024 x 1024 time (min): ' + str((end - start) / scan_row_num / scan_col_num * 1024 * 1024 / 60))\n",
    "\n",
    "fig, ax = plt.subplots()\n",
    "ax.imshow(phaseMap)\n",
    "plt.plot(vac_loc[0],vac_loc[1], 'ro')  # shows where our selection above is in the overall scan\n",
    "\n",
    "# np.save(savePath + '14Phase_256_ord1', phaseMap)\n",
    "\n",
    "sa.reshape((scan_row_num, scan_col_num, frame_row_num, frame_col_num))"
   ]
  },
  {
   "cell_type": "code",
   "execution_count": 43,
   "metadata": {},
   "outputs": [
    {
     "data": {
      "application/vnd.jupyter.widget-view+json": {
       "model_id": "0286e9cc99e34a46a3e14b451a7bdf71",
       "version_major": 2,
       "version_minor": 0
      },
      "text/plain": [
       "Canvas(toolbar=Toolbar(toolitems=[('Home', 'Reset original view', 'home', 'home'), ('Back', 'Back to previous …"
      ]
     },
     "metadata": {},
     "output_type": "display_data"
    }
   ],
   "source": [
    "# check best locations for plane subtractions for phase map\n",
    "\n",
    "loc = (100,20)\n",
    "\n",
    "fig, ax = plt.subplots()\n",
    "ax.xaxis.tick_top()\n",
    "image = ax.imshow(st.plane_subtract(phaseMap,loc,10,15), cmap='seismic')\n",
    "plt.colorbar(image)\n",
    "\n",
    "plt.plot(loc[0],loc[1], 'ro')"
   ]
  },
  {
   "cell_type": "code",
   "execution_count": 63,
   "metadata": {},
   "outputs": [
    {
     "data": {
      "application/vnd.jupyter.widget-view+json": {
       "model_id": "4f5b1cf9016e40d1bfbb68d55c60d54f",
       "version_major": 2,
       "version_minor": 0
      },
      "text/plain": [
       "Canvas(toolbar=Toolbar(toolitems=[('Home', 'Reset original view', 'home', 'home'), ('Back', 'Back to previous …"
      ]
     },
     "metadata": {},
     "output_type": "display_data"
    },
    {
     "data": {
      "text/plain": [
       "<matplotlib.colorbar.Colorbar at 0x7fd164fe4d60>"
      ]
     },
     "execution_count": 63,
     "metadata": {},
     "output_type": "execute_result"
    }
   ],
   "source": [
    "# plot the phase map with some plane subtraction and the phase minimum eliminated\n",
    "\n",
    "psed = st.plane_subtract(phaseMap, (100,20), 10, 15)\n",
    "psed = psed - psed.min()\n",
    "\n",
    "fig, ax = plt.subplots()\n",
    "ax.xaxis.tick_top()\n",
    "image = ax.imshow(psed, cmap='seismic')\n",
    "plt.colorbar(image)"
   ]
  },
  {
   "cell_type": "code",
   "execution_count": 65,
   "metadata": {},
   "outputs": [],
   "source": [
    "np.save(savePath + '112Phase_256_ord1', phaseMap)"
   ]
  },
  {
   "cell_type": "code",
   "execution_count": 65,
   "metadata": {},
   "outputs": [],
   "source": [
    "plt.close('all')"
   ]
  },
  {
   "cell_type": "code",
   "execution_count": null,
   "metadata": {},
   "outputs": [],
   "source": []
  }
 ],
 "metadata": {
  "kernelspec": {
   "display_name": "Python 3",
   "language": "python",
   "name": "python3"
  },
  "language_info": {
   "codemirror_mode": {
    "name": "ipython",
    "version": 3
   },
   "file_extension": ".py",
   "mimetype": "text/x-python",
   "name": "python",
   "nbconvert_exporter": "python",
   "pygments_lexer": "ipython3",
   "version": "3.8.5"
  }
 },
 "nbformat": 4,
 "nbformat_minor": 4
}

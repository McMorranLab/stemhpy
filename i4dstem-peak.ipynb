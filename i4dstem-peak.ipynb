{
 "cells": [
  {
   "cell_type": "code",
   "execution_count": 1,
   "metadata": {
    "pycharm": {
     "name": "#%%\n"
    }
   },
   "outputs": [],
   "source": [
    "%matplotlib widget\n",
    "\n",
    "# base python modules\n",
    "import numpy as np\n",
    "import time\n",
    "import matplotlib.pyplot as plt\n",
    "from matplotlib.colors import LogNorm\n",
    "from multiprocessing import cpu_count\n",
    "import pyfftw\n",
    "\n",
    "# NCEM + Molecular Foundry modules\n",
    "from stempy.io import sparse_array\n",
    "import stempy\n",
    "\n",
    "# our module\n",
    "import stemh_tools as st"
   ]
  },
  {
   "cell_type": "code",
   "execution_count": 3,
   "metadata": {
    "pycharm": {
     "name": "#%%\n"
    }
   },
   "outputs": [],
   "source": [
    "# paths hard coded from your own device\n",
    "\n",
    "dataPath = '/Users/andrewducharme/Documents/Data/4D_ISTEM/philipp_211004/data_scan110_th4.5_electrons.h5'\n",
    "savePath = '/Users/andrewducharme/Documents/Data/4D_ISTEM/OP_reanalysis/philipp_211004'"
   ]
  },
  {
   "cell_type": "code",
   "execution_count": null,
   "metadata": {
    "pycharm": {
     "name": "#%%\n"
    }
   },
   "outputs": [],
   "source": [
    "# open 4dstem data from h5 file into stempy SparseArray format\n",
    "sa = sparse_array.SparseArray.from_hdf5(dataPath)\n",
    "sa = sa[:, :-1, :, :]  # cut off flyback frames\n",
    "# sa = sa.bin_scans(2)  # binning may not be necessary, but if you get no signal in the phase, try it"
   ]
  },
  {
   "cell_type": "code",
   "execution_count": 5,
   "metadata": {
    "pycharm": {
     "name": "#%%\n"
    }
   },
   "outputs": [
    {
     "data": {
      "application/vnd.jupyter.widget-view+json": {
       "model_id": "9a3df0d345584052bb2ffa13a39de364",
       "version_major": 2,
       "version_minor": 0
      },
      "text/plain": [
       "Canvas(toolbar=Toolbar(toolitems=[('Home', 'Reset original view', 'home', 'home'), ('Back', 'Back to previous …"
      ]
     },
     "metadata": {},
     "output_type": "display_data"
    }
   ],
   "source": [
    "scan_row_num = sa.shape[0]  # same as scan_positions.attrs['Ny'] in hdf5 file metadata\n",
    "scan_col_num = sa.shape[1]  # same as sp.attrs['Nx'] - 1, since flyback is removed\n",
    "frame_row_num = sa.shape[2]\n",
    "frame_col_num = sa.shape[3]\n",
    "\n",
    "bf = stempy.image.create_stem_images(sa.data, 0, 30, scan_dimensions=(scan_col_num, scan_row_num), frame_dimensions=(frame_col_num, frame_row_num))[0]\n",
    "\n",
    "fig, ax = plt.subplots()\n",
    "ax.imshow(bf)\n",
    "plt.show()"
   ]
  },
  {
   "cell_type": "code",
   "execution_count": 6,
   "metadata": {
    "pycharm": {
     "name": "#%%\n"
    }
   },
   "outputs": [
    {
     "name": "stdout",
     "output_type": "stream",
     "text": [
      "[[793 516 201]\n",
      " [540 119 175]\n",
      " [299 448 102]\n",
      " [293 508 260]]\n",
      "[516 201]\n"
     ]
    },
    {
     "data": {
      "application/vnd.jupyter.widget-view+json": {
       "model_id": "3f585c14359f4119b7fa9fca3182c1cc",
       "version_major": 2,
       "version_minor": 0
      },
      "text/plain": [
       "Canvas(toolbar=Toolbar(toolitems=[('Home', 'Reset original view', 'home', 'home'), ('Back', 'Back to previous …"
      ]
     },
     "metadata": {},
     "output_type": "display_data"
    }
   ],
   "source": [
    "# This section computes the Fourier transform of an individual frame\n",
    "# This finds the location of the Fourier peaks and defines how large a square will be selected around first order peak\n",
    "# These values are the same for every frame\n",
    "\n",
    "# Remember stempy uses (col #, row #) unlike numpy's (# of rows, # of columns) structure\n",
    "\n",
    "vac_loc = [100,100]\n",
    "vac_frame = sa[vac_loc]\n",
    "\n",
    "# find the first order index by computing the real fft to match what we use in the loop\n",
    "vac_rfft = np.fft.rfft2(vac_frame)\n",
    "\n",
    "rfft_peaks = st.fft_find_peaks(vac_rfft, 4)  # find two highest magnitude peaks in vac_rfft\n",
    "print(rfft_peaks)\n",
    "\n",
    "first_order = rfft_peaks[0, 1:]  # location of first order peak\n",
    "# selection_size = st.calc_box_size(rfft_peaks) / 4 # eighth the distance between individual fft peaks\n",
    "\n",
    "print(first_order)\n",
    "\n",
    "selection_size = 3\n",
    "\n",
    "# Check the frame isn't obviously garbage.\n",
    "# The code looks at the raw rFFT, but it's easier for us humans to look at the fftshifted rFFT\n",
    "# Just remember Fourier peak locations in the fftshifted data are not the locations in the actual analysis\n",
    "fig, ax = plt.subplots()\n",
    "# ax.imshow(vac_frame, cmap='binary')\n",
    "# ax.imshow(np.abs(vac_rfft), norm=LogNorm())\n",
    "ax.imshow(np.abs(np.fft.fftshift(vac_rfft)), norm=LogNorm())\n",
    "ax.xaxis.tick_top()\n",
    "ax.tick_params(labelsize = 12)\n",
    "fig.tight_layout()"
   ]
  },
  {
   "cell_type": "code",
   "execution_count": null,
   "metadata": {},
   "outputs": [],
   "source": [
    "# setting up pyfftw numpy interface\n",
    "pyfftw.config.NUM_THREADS = cpu_count()\n",
    "pyfftw.config.PLANNER_EFFORT = 'FFTW_ESTIMATE'\n",
    "pyfftw.interfaces.cache.enable()"
   ]
  },
  {
   "cell_type": "code",
   "execution_count": null,
   "metadata": {
    "pycharm": {
     "name": "#%%\n"
    }
   },
   "outputs": [
    {
     "name": "stdout",
     "output_type": "stream",
     "text": [
      "0\n",
      "20000\n",
      "40000\n",
      "60000\n",
      "Total time (s): 89.26563310623169\n",
      "Per frame time (ms): 1.362085466098506\n",
      "1024 x 1024 time (min): 23.80416882832845\n"
     ]
    },
    {
     "data": {
      "application/vnd.jupyter.widget-view+json": {
       "model_id": "f20576b809d446eb8f17d8172e36e197",
       "version_major": 2,
       "version_minor": 0
      },
      "text/plain": [
       "Canvas(toolbar=Toolbar(toolitems=[('Home', 'Reset original view', 'home', 'home'), ('Back', 'Back to previous …"
      ]
     },
     "metadata": {},
     "output_type": "display_data"
    },
    {
     "data": {
      "text/plain": [
       "<stempy.io.sparse_array.SparseArray at 0x7fb8d938ff70>"
      ]
     },
     "execution_count": 8,
     "metadata": {},
     "output_type": "execute_result"
    }
   ],
   "source": [
    "base = np.empty(sa.frame_shape, dtype='uint16')\n",
    "    \n",
    "# sparse array shape changed from (scan_row, scan_col, : ,:) to (scan_row * scan_col, :,:)\n",
    "rsa = sa.ravel_scans()\n",
    "\n",
    "# initialize arrays to store values through loop\n",
    "peaks = np.zeros(rsa.scan_shape[0], dtype=complex)\n",
    "\n",
    "start = time.time()\n",
    "\n",
    "# the forward Fourier transform is the vast majority of the work+computation time here\n",
    "for i, frame in enumerate(rsa):\n",
    "    if i % 20e3 == 0:\n",
    "        print(i)\n",
    "    if not frame.any():\n",
    "        peaks[i] = 0\n",
    "        continue\n",
    "\n",
    "    base[:] = frame\n",
    "\n",
    "    ft = pyfftw.interfaces.numpy_fft.rfft2(base)  # take Fourier transform of the windowed frame\n",
    "    \n",
    "    fourier_space_peak = st.grab_square_box(ft, selection_size, first_order)  # select the area around the first peak\n",
    "    peaks[i] = np.sum(fourier_space_peak)\n",
    "\n",
    "phaseMap = np.angle(peaks)\n",
    "phaseMap = phaseMap.reshape(scan_row_num, scan_col_num)\n",
    "\n",
    "end = time.time()\n",
    "\n",
    "print(\"Total time (s): \" + str(end - start))\n",
    "print(\"Per frame time (ms): \" + str((end - start) / scan_row_num / scan_col_num * 1000))\n",
    "print('1024 x 1024 time (min): ' + str((end - start) / scan_row_num / scan_col_num * 1024 * 1024 / 60))\n",
    "\n",
    "fig, ax = plt.subplots()\n",
    "ax.imshow(phaseMap)\n",
    "\n",
    "plt.show()\n",
    "\n",
    "# np.save(savePath + '220615_110_Phase_256_ord1_phaseSign', phaseMap)\n",
    "\n",
    "sa.reshape((scan_row_num, scan_col_num, frame_row_num, frame_col_num))"
   ]
  },
  {
   "cell_type": "code",
   "execution_count": 65,
   "metadata": {
    "pycharm": {
     "name": "#%%\n"
    }
   },
   "outputs": [],
   "source": [
    "np.save(savePath + '112Phase_256_ord1', phaseMap)"
   ]
  },
  {
   "cell_type": "code",
   "execution_count": 108,
   "metadata": {
    "pycharm": {
     "name": "#%%\n"
    }
   },
   "outputs": [],
   "source": [
    "plt.close('all')"
   ]
  },
  {
   "cell_type": "code",
   "execution_count": null,
   "metadata": {
    "pycharm": {
     "name": "#%%\n"
    }
   },
   "outputs": [],
   "source": []
  }
 ],
 "metadata": {
  "kernelspec": {
   "display_name": "Python 3 (ipykernel)",
   "language": "python",
   "name": "python3"
  },
  "language_info": {
   "codemirror_mode": {
    "name": "ipython",
    "version": 3
   },
   "file_extension": ".py",
   "mimetype": "text/x-python",
   "name": "python",
   "nbconvert_exporter": "python",
   "pygments_lexer": "ipython3",
   "version": "3.11.4"
  }
 },
 "nbformat": 4,
 "nbformat_minor": 4
}
